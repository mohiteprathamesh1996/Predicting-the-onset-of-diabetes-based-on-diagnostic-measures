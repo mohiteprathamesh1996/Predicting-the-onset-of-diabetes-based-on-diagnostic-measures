{
  "nbformat": 4,
  "nbformat_minor": 0,
  "metadata": {
    "colab": {
      "name": "PIMA_Indians_Diabetes.ipynb",
      "provenance": [],
      "collapsed_sections": [],
      "authorship_tag": "ABX9TyM+LlHVMuoaWz9rjL/WLkAM",
      "include_colab_link": true
    },
    "kernelspec": {
      "name": "python3",
      "display_name": "Python 3"
    }
  },
  "cells": [
    {
      "cell_type": "markdown",
      "metadata": {
        "id": "view-in-github",
        "colab_type": "text"
      },
      "source": [
        "<a href=\"https://colab.research.google.com/github/mohiteprathamesh1996/Predicting-the-onset-of-diabetes-based-on-diagnostic-measures/blob/main/PIMA_Indians_Diabetes.ipynb\" target=\"_parent\"><img src=\"https://colab.research.google.com/assets/colab-badge.svg\" alt=\"Open In Colab\"/></a>"
      ]
    },
    {
      "cell_type": "markdown",
      "metadata": {
        "id": "wju1KTGKIpb_"
      },
      "source": [
        "<h2 align=\"center\"> Diabetes Classification using Sklearn Pipeline"
      ]
    },
    {
      "cell_type": "markdown",
      "metadata": {
        "id": "mmFMPi_5Jq0I"
      },
      "source": [
        "#### Load packages"
      ]
    },
    {
      "cell_type": "code",
      "metadata": {
        "id": "n3G9kCH0IfyH"
      },
      "source": [
        "import pandas as pd\r\n",
        "pd.options.display.max_rows = 999\r\n",
        "import seaborn as sns\r\n",
        "import numpy as np\r\n",
        "import matplotlib.pyplot as plt\r\n",
        "from tqdm import tqdm\r\n",
        "\r\n",
        "from sklearn.datasets import load_diabetes\r\n",
        "from sklearn.model_selection import train_test_split\r\n",
        "from sklearn.preprocessing import StandardScaler\r\n",
        "from sklearn.decomposition import PCA\r\n",
        "from sklearn.pipeline import Pipeline\r\n",
        "from sklearn.linear_model import LogisticRegression\r\n",
        "from sklearn.tree import DecisionTreeClassifier\r\n",
        "from sklearn.ensemble import RandomForestClassifier\r\n",
        "from sklearn.neighbors import KNeighborsClassifier\r\n",
        "from sklearn.ensemble import AdaBoostClassifier\r\n",
        "from sklearn.ensemble import GradientBoostingClassifier\r\n",
        "\r\n",
        "from sklearn.metrics import make_scorer, accuracy_score, roc_auc_score, recall_score\r\n",
        "\r\n",
        "from sklearn.model_selection import GridSearchCV\r\n",
        "\r\n",
        "import warnings\r\n",
        "warnings.filterwarnings(\"ignore\")"
      ],
      "execution_count": 1,
      "outputs": []
    },
    {
      "cell_type": "markdown",
      "metadata": {
        "id": "SRNTkOqwJswb"
      },
      "source": [
        "#### Load data"
      ]
    },
    {
      "cell_type": "code",
      "metadata": {
        "colab": {
          "base_uri": "https://localhost:8080/",
          "height": 195
        },
        "id": "SnDP3cwSI8Ty",
        "outputId": "24b18a3f-6959-490f-b687-5047a1232848"
      },
      "source": [
        "df_diabetes = pd.read_csv(\"https://raw.githubusercontent.com/krishnaik06/Diabetes-Prediction/master/data/pima-data.csv\")\r\n",
        "\r\n",
        "df_diabetes.head()"
      ],
      "execution_count": 2,
      "outputs": [
        {
          "output_type": "execute_result",
          "data": {
            "text/html": [
              "<div>\n",
              "<style scoped>\n",
              "    .dataframe tbody tr th:only-of-type {\n",
              "        vertical-align: middle;\n",
              "    }\n",
              "\n",
              "    .dataframe tbody tr th {\n",
              "        vertical-align: top;\n",
              "    }\n",
              "\n",
              "    .dataframe thead th {\n",
              "        text-align: right;\n",
              "    }\n",
              "</style>\n",
              "<table border=\"1\" class=\"dataframe\">\n",
              "  <thead>\n",
              "    <tr style=\"text-align: right;\">\n",
              "      <th></th>\n",
              "      <th>num_preg</th>\n",
              "      <th>glucose_conc</th>\n",
              "      <th>diastolic_bp</th>\n",
              "      <th>thickness</th>\n",
              "      <th>insulin</th>\n",
              "      <th>bmi</th>\n",
              "      <th>diab_pred</th>\n",
              "      <th>age</th>\n",
              "      <th>skin</th>\n",
              "      <th>diabetes</th>\n",
              "    </tr>\n",
              "  </thead>\n",
              "  <tbody>\n",
              "    <tr>\n",
              "      <th>0</th>\n",
              "      <td>6</td>\n",
              "      <td>148</td>\n",
              "      <td>72</td>\n",
              "      <td>35</td>\n",
              "      <td>0</td>\n",
              "      <td>33.6</td>\n",
              "      <td>0.627</td>\n",
              "      <td>50</td>\n",
              "      <td>1.3790</td>\n",
              "      <td>True</td>\n",
              "    </tr>\n",
              "    <tr>\n",
              "      <th>1</th>\n",
              "      <td>1</td>\n",
              "      <td>85</td>\n",
              "      <td>66</td>\n",
              "      <td>29</td>\n",
              "      <td>0</td>\n",
              "      <td>26.6</td>\n",
              "      <td>0.351</td>\n",
              "      <td>31</td>\n",
              "      <td>1.1426</td>\n",
              "      <td>False</td>\n",
              "    </tr>\n",
              "    <tr>\n",
              "      <th>2</th>\n",
              "      <td>8</td>\n",
              "      <td>183</td>\n",
              "      <td>64</td>\n",
              "      <td>0</td>\n",
              "      <td>0</td>\n",
              "      <td>23.3</td>\n",
              "      <td>0.672</td>\n",
              "      <td>32</td>\n",
              "      <td>0.0000</td>\n",
              "      <td>True</td>\n",
              "    </tr>\n",
              "    <tr>\n",
              "      <th>3</th>\n",
              "      <td>1</td>\n",
              "      <td>89</td>\n",
              "      <td>66</td>\n",
              "      <td>23</td>\n",
              "      <td>94</td>\n",
              "      <td>28.1</td>\n",
              "      <td>0.167</td>\n",
              "      <td>21</td>\n",
              "      <td>0.9062</td>\n",
              "      <td>False</td>\n",
              "    </tr>\n",
              "    <tr>\n",
              "      <th>4</th>\n",
              "      <td>0</td>\n",
              "      <td>137</td>\n",
              "      <td>40</td>\n",
              "      <td>35</td>\n",
              "      <td>168</td>\n",
              "      <td>43.1</td>\n",
              "      <td>2.288</td>\n",
              "      <td>33</td>\n",
              "      <td>1.3790</td>\n",
              "      <td>True</td>\n",
              "    </tr>\n",
              "  </tbody>\n",
              "</table>\n",
              "</div>"
            ],
            "text/plain": [
              "   num_preg  glucose_conc  diastolic_bp  ...  age    skin  diabetes\n",
              "0         6           148            72  ...   50  1.3790      True\n",
              "1         1            85            66  ...   31  1.1426     False\n",
              "2         8           183            64  ...   32  0.0000      True\n",
              "3         1            89            66  ...   21  0.9062     False\n",
              "4         0           137            40  ...   33  1.3790      True\n",
              "\n",
              "[5 rows x 10 columns]"
            ]
          },
          "metadata": {
            "tags": []
          },
          "execution_count": 2
        }
      ]
    },
    {
      "cell_type": "markdown",
      "metadata": {
        "id": "JLharfzYJxKK"
      },
      "source": [
        "#### Exploring data distribution"
      ]
    },
    {
      "cell_type": "code",
      "metadata": {
        "colab": {
          "base_uri": "https://localhost:8080/",
          "height": 607
        },
        "id": "uTaKmoLnJw7_",
        "outputId": "e27935b0-322c-46fa-c1f3-9ee91f4c08af"
      },
      "source": [
        "df_diabetes[[i for i in df_diabetes.columns \\\r\n",
        "             if df_diabetes[i].dtypes==int or df_diabetes[i].dtypes==float]]\\\r\n",
        "             .hist(figsize=(10,10), bins=20) \r\n",
        "\r\n",
        "plt.show()"
      ],
      "execution_count": 3,
      "outputs": [
        {
          "output_type": "display_data",
          "data": {
            "image/png": "[encoded data removed]",
            "text/plain": [
              "<Figure size 720x720 with 9 Axes>"
            ]
          },
          "metadata": {
            "tags": [],
            "needs_background": "light"
          }
        }
      ]
    },
    {
      "cell_type": "code",
      "metadata": {
        "colab": {
          "base_uri": "https://localhost:8080/",
          "height": 544
        },
        "id": "CTN3rUyIJw54",
        "outputId": "04c1d5a1-459c-407e-d358-9c3f3c8cb3d6"
      },
      "source": [
        "plt.rcParams[\"figure.figsize\"] = (12, 8)\r\n",
        "\r\n",
        "sns.heatmap(df_diabetes.corr().abs()[(df_diabetes.corr().abs()>0.75) |\r\n",
        "                                     (df_diabetes.corr().abs()==1)], \r\n",
        "            annot=True)\r\n",
        "\r\n",
        "plt.show()"
      ],
      "execution_count": 4,
      "outputs": [
        {
          "output_type": "display_data",
          "data": {
            "image/png": "[encoded data removed]",
            "text/plain": [
              "<Figure size 864x576 with 2 Axes>"
            ]
          },
          "metadata": {
            "tags": [],
            "needs_background": "light"
          }
        }
      ]
    },
    {
      "cell_type": "code",
      "metadata": {
        "id": "fqjvhpb8Jw3j"
      },
      "source": [
        "df_diabetes[\"diabetes\"] = df_diabetes[\"diabetes\"].map({True:1, False:0})"
      ],
      "execution_count": 5,
      "outputs": []
    },
    {
      "cell_type": "markdown",
      "metadata": {
        "id": "SWIjM-7ARlt_"
      },
      "source": [
        "#### Split training and test data"
      ]
    },
    {
      "cell_type": "code",
      "metadata": {
        "id": "e3Ss1xjKJw0S"
      },
      "source": [
        "X_train, X_test, y_train, y_test = train_test_split(df_diabetes.drop(columns=[\"diabetes\"]),\r\n",
        "                                                    df_diabetes[\"diabetes\"],\r\n",
        "                                                    test_size=0.20,\r\n",
        "                                                    random_state=42)"
      ],
      "execution_count": 6,
      "outputs": []
    },
    {
      "cell_type": "markdown",
      "metadata": {
        "id": "8KiG-EkJR9DQ"
      },
      "source": [
        "#### Fixing class imbalance in training dataset"
      ]
    },
    {
      "cell_type": "code",
      "metadata": {
        "colab": {
          "base_uri": "https://localhost:8080/"
        },
        "id": "Utu1kgBWJwyD",
        "outputId": "9ab0e1dd-de12-4e4a-bbdd-9fc0db6dfeb4"
      },
      "source": [
        "print(\"Training data class imbalance is as follows: \\n\",y_train.value_counts())\r\n",
        "\r\n",
        "from imblearn.over_sampling import SMOTE\r\n",
        "\r\n",
        "os = SMOTE()\r\n",
        "\r\n",
        "X_train_resampled, y_train_resampled = os.fit_resample(X_train, y_train)\r\n",
        "\r\n",
        "print(\"\\nAfter oversampling: \\n\", pd.Series(y_train_resampled).value_counts())"
      ],
      "execution_count": 7,
      "outputs": [
        {
          "output_type": "stream",
          "text": [
            "Training data class imbalance is as follows: \n",
            " 0    401\n",
            "1    213\n",
            "Name: diabetes, dtype: int64\n",
            "\n",
            "After oversampling: \n",
            " 1    401\n",
            "0    401\n",
            "dtype: int64\n"
          ],
          "name": "stdout"
        }
      ]
    },
    {
      "cell_type": "markdown",
      "metadata": {
        "id": "e7KnGM7jSirf"
      },
      "source": [
        "#### Create pipeline¶\r\n",
        "##### Step 1: Data Preprocessing and scaling (mean=0, SD=1)\r\n",
        "##### Step 2: Dimensionality reduction using Principal Component Analysis\r\n",
        "##### Step 3: Fit model"
      ]
    },
    {
      "cell_type": "code",
      "metadata": {
        "id": "gqNfhc_jSbTs"
      },
      "source": [
        "# Number of PCs\r\n",
        "pcs = 2\r\n",
        "\r\n",
        "# Define pipeline for Logistic Regression classifier\r\n",
        "lr_pipeline = Pipeline([(\"Scaling_1\", StandardScaler()),\r\n",
        "                        (\"Dim_Red_1\", PCA(n_components=pcs)),\r\n",
        "                        (\"LogRegClass\", LogisticRegression())])\r\n",
        "\r\n",
        "# Define pipeline for Decision Tree classifier\r\n",
        "dtree_pipeline = Pipeline([(\"Scaling_2\", StandardScaler()),\r\n",
        "                           (\"Dim_Red_2\", PCA(n_components=pcs)),\r\n",
        "                           (\"DecisionTreeClass\", DecisionTreeClassifier())])\r\n",
        "\r\n",
        "# Define pipeline for Random Forest classifier\r\n",
        "RF_pipeline = Pipeline([(\"Scaling_3\", StandardScaler()),\r\n",
        "                        (\"Dim_Red_3\", PCA(n_components=pcs)),\r\n",
        "                        (\"RandomForestClass\", RandomForestClassifier())])\r\n",
        "\r\n",
        "# Define pipeline for KNN classifier\r\n",
        "KNN_pipeline = Pipeline([(\"Scaling_4\", StandardScaler()),\r\n",
        "                         (\"Dim_Red_4\", PCA(n_components=pcs)),\r\n",
        "                         (\"KNN_Class\", KNeighborsClassifier())])\r\n",
        "\r\n",
        "# Define pipeline for Gradient boosting classifier\r\n",
        "GBoost_pipeline = Pipeline([(\"Scaling_5\", StandardScaler()),\r\n",
        "                            (\"Dim_Red_5\", PCA(n_components=pcs)),\r\n",
        "                            (\"GradientBoostingClass\", GradientBoostingClassifier())])\r\n",
        "\r\n",
        "\r\n",
        "# Create list of all above pipelines\r\n",
        "concat_pipelines = [lr_pipeline, dtree_pipeline, RF_pipeline, KNN_pipeline, GBoost_pipeline]"
      ],
      "execution_count": 8,
      "outputs": []
    },
    {
      "cell_type": "markdown",
      "metadata": {
        "id": "19w21MAsTUZ1"
      },
      "source": [
        "#### Base Model fitting"
      ]
    },
    {
      "cell_type": "code",
      "metadata": {
        "colab": {
          "base_uri": "https://localhost:8080/",
          "height": 212
        },
        "id": "YVjhbUAsSbRD",
        "outputId": "4436d114-e2a1-4c85-edaa-fbec2efa33a0"
      },
      "source": [
        "# Fit each model in the pipeline on the training data\r\n",
        "for model in tqdm(concat_pipelines):\r\n",
        "  model.fit(X_train_resampled, y_train_resampled)\r\n",
        "\r\n",
        "# Best performance on test data\r\n",
        "leaderboard = pd.DataFrame([(model.steps[2][0], \r\n",
        "                             model.score(X_train_resampled, y_train_resampled),\r\n",
        "                             model.score(X_test, y_test),\r\n",
        "                             recall_score(y_test, model.predict(X_test)),\r\n",
        "                             model) for model in concat_pipelines], \r\n",
        "                           columns=[\"Algorithm\", \"Training Accuracy\", \"Validation Accuracy\", \"Recall\", \"FittedModel\"])\\\r\n",
        "                           .sort_values(by=[\"Validation Accuracy\"], ascending=False)\\\r\n",
        "                           .reset_index(drop=True)\r\n",
        "\r\n",
        "leaderboard.head()"
      ],
      "execution_count": 9,
      "outputs": [
        {
          "output_type": "stream",
          "text": [
            "100%|██████████| 5/5 [00:00<00:00, 11.61it/s]\n"
          ],
          "name": "stderr"
        },
        {
          "output_type": "execute_result",
          "data": {
            "text/html": [
              "<div>\n",
              "<style scoped>\n",
              "    .dataframe tbody tr th:only-of-type {\n",
              "        vertical-align: middle;\n",
              "    }\n",
              "\n",
              "    .dataframe tbody tr th {\n",
              "        vertical-align: top;\n",
              "    }\n",
              "\n",
              "    .dataframe thead th {\n",
              "        text-align: right;\n",
              "    }\n",
              "</style>\n",
              "<table border=\"1\" class=\"dataframe\">\n",
              "  <thead>\n",
              "    <tr style=\"text-align: right;\">\n",
              "      <th></th>\n",
              "      <th>Algorithm</th>\n",
              "      <th>Training Accuracy</th>\n",
              "      <th>Validation Accuracy</th>\n",
              "      <th>Recall</th>\n",
              "      <th>FittedModel</th>\n",
              "    </tr>\n",
              "  </thead>\n",
              "  <tbody>\n",
              "    <tr>\n",
              "      <th>0</th>\n",
              "      <td>DecisionTreeClass</td>\n",
              "      <td>1.000000</td>\n",
              "      <td>0.668831</td>\n",
              "      <td>0.709091</td>\n",
              "      <td>(StandardScaler(copy=True, with_mean=True, wit...</td>\n",
              "    </tr>\n",
              "    <tr>\n",
              "      <th>1</th>\n",
              "      <td>LogRegClass</td>\n",
              "      <td>0.690773</td>\n",
              "      <td>0.662338</td>\n",
              "      <td>0.690909</td>\n",
              "      <td>(StandardScaler(copy=True, with_mean=True, wit...</td>\n",
              "    </tr>\n",
              "    <tr>\n",
              "      <th>2</th>\n",
              "      <td>RandomForestClass</td>\n",
              "      <td>1.000000</td>\n",
              "      <td>0.636364</td>\n",
              "      <td>0.690909</td>\n",
              "      <td>(StandardScaler(copy=True, with_mean=True, wit...</td>\n",
              "    </tr>\n",
              "    <tr>\n",
              "      <th>3</th>\n",
              "      <td>GradientBoostingClass</td>\n",
              "      <td>0.850374</td>\n",
              "      <td>0.629870</td>\n",
              "      <td>0.745455</td>\n",
              "      <td>(StandardScaler(copy=True, with_mean=True, wit...</td>\n",
              "    </tr>\n",
              "    <tr>\n",
              "      <th>4</th>\n",
              "      <td>KNN_Class</td>\n",
              "      <td>0.809227</td>\n",
              "      <td>0.590909</td>\n",
              "      <td>0.690909</td>\n",
              "      <td>(StandardScaler(copy=True, with_mean=True, wit...</td>\n",
              "    </tr>\n",
              "  </tbody>\n",
              "</table>\n",
              "</div>"
            ],
            "text/plain": [
              "               Algorithm  ...                                        FittedModel\n",
              "0      DecisionTreeClass  ...  (StandardScaler(copy=True, with_mean=True, wit...\n",
              "1            LogRegClass  ...  (StandardScaler(copy=True, with_mean=True, wit...\n",
              "2      RandomForestClass  ...  (StandardScaler(copy=True, with_mean=True, wit...\n",
              "3  GradientBoostingClass  ...  (StandardScaler(copy=True, with_mean=True, wit...\n",
              "4              KNN_Class  ...  (StandardScaler(copy=True, with_mean=True, wit...\n",
              "\n",
              "[5 rows x 5 columns]"
            ]
          },
          "metadata": {
            "tags": []
          },
          "execution_count": 9
        }
      ]
    },
    {
      "cell_type": "markdown",
      "metadata": {
        "id": "AiG-p1ldyRlS"
      },
      "source": [
        "#### Hyperparameter tuning"
      ]
    },
    {
      "cell_type": "code",
      "metadata": {
        "id": "QPN9DcI4Jwql"
      },
      "source": [
        "# Create grid of parameters for all models\r\n",
        "param_grid = {\"LogRegClass\" : {\"LogRegClass__C\": [0.001, 0.01, 0.1, 1, 10, 100, 1000],\r\n",
        "                               \"LogRegClass__penalty\": ['l1', 'l2'],\r\n",
        "                               \"LogRegClass__max_iter\": list(range(100,800,100)),\r\n",
        "                               \"LogRegClass__solver\": ['newton-cg', 'lbfgs', 'liblinear', 'sag', 'saga']},\r\n",
        "              \r\n",
        "              \"DecisionTreeClass\" : {'DecisionTreeClass__max_depth': np.arange(3, 20)},\r\n",
        "              \r\n",
        "              \"GradientBoostingClass\" : {'GradientBoostingClass__max_depth': np.arange(3, 20)},\r\n",
        "              \r\n",
        "              \"KNN_Class\" : {\"KNN_Class__algorithm\" : [\"auto\", \"ball_tree\", \"kd_tree\", \"brute\"],\r\n",
        "                             \"KNN_Class__n_neighbors\" : np.arange(3, 50)},\r\n",
        "              \r\n",
        "              \"RandomForestClass\" : {'RandomForestClass__max_features' : [\"auto\", \"sqrt\", \"log2\"],\r\n",
        "                                     'RandomForestClass__min_samples_split' : np.linspace(0.1, 1.0, 10),\r\n",
        "                                     'RandomForestClass__max_depth' : [x for x in range(5,20)]}}"
      ],
      "execution_count": 10,
      "outputs": []
    },
    {
      "cell_type": "code",
      "metadata": {
        "colab": {
          "base_uri": "https://localhost:8080/"
        },
        "id": "RQr8zjwBkMZf",
        "outputId": "bcd8bcd1-1ecb-4198-d2bb-6f0a250ae50c"
      },
      "source": [
        "# Fitting the best tuned model \r\n",
        "algo = []\r\n",
        "tr_acc = []\r\n",
        "val_acc = []\r\n",
        "rec = []\r\n",
        "fitted = []\r\n",
        "\r\n",
        "for model in tqdm(concat_pipelines):\r\n",
        "  scoring_metrics = make_scorer(score_func=recall_score, greater_is_better=True)\r\n",
        "  \r\n",
        "  gridsearched = GridSearchCV(model, param_grid[model.steps[2][0]], scoring=scoring_metrics, cv=5)\r\n",
        "  \r\n",
        "  gridsearched.fit(X_train_resampled, y_train_resampled)\r\n",
        "\r\n",
        "  algo.append(model.steps[2][0])\r\n",
        "\r\n",
        "  tr_acc.append(gridsearched.score(X_train_resampled, y_train_resampled))\r\n",
        "\r\n",
        "  val_acc.append(gridsearched.score(X_test, y_test))\r\n",
        "\r\n",
        "  rec.append(recall_score(y_test, gridsearched.predict(X_test)))\r\n",
        "\r\n",
        "  fitted.append(gridsearched)"
      ],
      "execution_count": 11,
      "outputs": [
        {
          "output_type": "stream",
          "text": [
            "100%|██████████| 5/5 [08:31<00:00, 102.21s/it]\n"
          ],
          "name": "stderr"
        }
      ]
    },
    {
      "cell_type": "code",
      "metadata": {
        "colab": {
          "base_uri": "https://localhost:8080/",
          "height": 195
        },
        "id": "BgymIfeUkMXL",
        "outputId": "8d66a3d6-8f5b-480f-bf86-a8537c935bf8"
      },
      "source": [
        "# Print leaderboard\r\n",
        "tuned_leaderboard = pd.DataFrame([algo, tr_acc, val_acc, rec, fitted], \r\n",
        "                                 index=[\"Algorithm\", \"Training Accuracy\", \"Validation Accuracy\", \"Recall\", \"FittedModel\"]).T\\\r\n",
        "                                    .sort_values(by=[\"Recall\"], ascending=False)\\\r\n",
        "                                    .reset_index(drop=True)\r\n",
        "\r\n",
        "tuned_leaderboard"
      ],
      "execution_count": 12,
      "outputs": [
        {
          "output_type": "execute_result",
          "data": {
            "text/html": [
              "<div>\n",
              "<style scoped>\n",
              "    .dataframe tbody tr th:only-of-type {\n",
              "        vertical-align: middle;\n",
              "    }\n",
              "\n",
              "    .dataframe tbody tr th {\n",
              "        vertical-align: top;\n",
              "    }\n",
              "\n",
              "    .dataframe thead th {\n",
              "        text-align: right;\n",
              "    }\n",
              "</style>\n",
              "<table border=\"1\" class=\"dataframe\">\n",
              "  <thead>\n",
              "    <tr style=\"text-align: right;\">\n",
              "      <th></th>\n",
              "      <th>Algorithm</th>\n",
              "      <th>Training Accuracy</th>\n",
              "      <th>Validation Accuracy</th>\n",
              "      <th>Recall</th>\n",
              "      <th>FittedModel</th>\n",
              "    </tr>\n",
              "  </thead>\n",
              "  <tbody>\n",
              "    <tr>\n",
              "      <th>0</th>\n",
              "      <td>RandomForestClass</td>\n",
              "      <td>1</td>\n",
              "      <td>1</td>\n",
              "      <td>1</td>\n",
              "      <td>GridSearchCV(cv=5, error_score=nan,\\n         ...</td>\n",
              "    </tr>\n",
              "    <tr>\n",
              "      <th>1</th>\n",
              "      <td>GradientBoostingClass</td>\n",
              "      <td>0.950125</td>\n",
              "      <td>0.781818</td>\n",
              "      <td>0.781818</td>\n",
              "      <td>GridSearchCV(cv=5, error_score=nan,\\n         ...</td>\n",
              "    </tr>\n",
              "    <tr>\n",
              "      <th>2</th>\n",
              "      <td>KNN_Class</td>\n",
              "      <td>0.783042</td>\n",
              "      <td>0.745455</td>\n",
              "      <td>0.745455</td>\n",
              "      <td>GridSearchCV(cv=5, error_score=nan,\\n         ...</td>\n",
              "    </tr>\n",
              "    <tr>\n",
              "      <th>3</th>\n",
              "      <td>DecisionTreeClass</td>\n",
              "      <td>0.755611</td>\n",
              "      <td>0.690909</td>\n",
              "      <td>0.690909</td>\n",
              "      <td>GridSearchCV(cv=5, error_score=nan,\\n         ...</td>\n",
              "    </tr>\n",
              "    <tr>\n",
              "      <th>4</th>\n",
              "      <td>LogRegClass</td>\n",
              "      <td>0.683292</td>\n",
              "      <td>0.636364</td>\n",
              "      <td>0.636364</td>\n",
              "      <td>GridSearchCV(cv=5, error_score=nan,\\n         ...</td>\n",
              "    </tr>\n",
              "  </tbody>\n",
              "</table>\n",
              "</div>"
            ],
            "text/plain": [
              "               Algorithm  ...                                        FittedModel\n",
              "0      RandomForestClass  ...  GridSearchCV(cv=5, error_score=nan,\\n         ...\n",
              "1  GradientBoostingClass  ...  GridSearchCV(cv=5, error_score=nan,\\n         ...\n",
              "2              KNN_Class  ...  GridSearchCV(cv=5, error_score=nan,\\n         ...\n",
              "3      DecisionTreeClass  ...  GridSearchCV(cv=5, error_score=nan,\\n         ...\n",
              "4            LogRegClass  ...  GridSearchCV(cv=5, error_score=nan,\\n         ...\n",
              "\n",
              "[5 rows x 5 columns]"
            ]
          },
          "metadata": {
            "tags": []
          },
          "execution_count": 12
        }
      ]
    },
    {
      "cell_type": "code",
      "metadata": {
        "id": "dmhGQXvbkMVG"
      },
      "source": [
        ""
      ],
      "execution_count": 12,
      "outputs": []
    },
    {
      "cell_type": "code",
      "metadata": {
        "id": "hyfvpw--kMSK"
      },
      "source": [
        ""
      ],
      "execution_count": 12,
      "outputs": []
    },
    {
      "cell_type": "code",
      "metadata": {
        "id": "X0pFvFf1JIbJ"
      },
      "source": [
        ""
      ],
      "execution_count": 12,
      "outputs": []
    }
  ]
}